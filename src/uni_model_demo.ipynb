{
 "cells": [
  {
   "cell_type": "markdown",
   "metadata": {},
   "source": [
    "## Running the university population network model\n",
    "\n",
    "This notebook demos running the university network model and demonstrates a selection of the variables that may be altered.  "
   ]
  },
  {
   "cell_type": "markdown",
   "metadata": {},
   "source": [
    "We start by activating the project environment and loading the packages required to execute the upcoming code. \n",
    "Relevant julia doucmentation: [Package manager](https://docs.julialang.org/en/v1/stdlib/Pkg/), [environments](https://pkgdocs.julialang.org/v1/environments/).\n"
   ]
  },
  {
   "cell_type": "code",
   "execution_count": null,
   "metadata": {},
   "outputs": [],
   "source": [
    "#Load environment\n",
    "using Pkg\n",
    "Pkg.activate(\"../\")\n",
    "\n",
    "#Required packages\n",
    "using MAT, Distributions\n",
    "using LinearAlgebra, Random, DelimitedFiles, Parameters"
   ]
  },
  {
   "cell_type": "markdown",
   "metadata": {},
   "source": [
    "We next include supporting files that contain functions that will be called when performing simulations."
   ]
  },
  {
   "cell_type": "code",
   "execution_count": null,
   "metadata": {},
   "outputs": [],
   "source": [
    "\"\"\"\n",
    "Load supporting files\n",
    "\"\"\"\n",
    "# Files containing other functions needed to run the model\n",
    "include(\"include_files_uni_model/parametertypes.jl\")\n",
    "include(\"include_files_uni_model/contact_tracing_fns.jl\")\n",
    "include(\"include_files_uni_model/network_generation_fns.jl\")\n",
    "include(\"include_files_uni_model/additional_fns.jl\")\n",
    "include(\"include_files_uni_model/intervention_condition_affect_fns.jl\")\n",
    "include(\"include_files_uni_model/mass_testing_fns.jl\")\n",
    "include(\"include_files_uni_model/seed_initial_states_fns.jl\")\n",
    "include(\"include_files_uni_model/student_travel_fns.jl\")\n",
    "include(\"include_files_uni_model/main_function.jl\")"
   ]
  },
  {
   "cell_type": "markdown",
   "metadata": {},
   "source": [
    "Set the batch of configurations to be run. Options include:\n",
    "\n",
    "* \"run_one_run_baseline_nointerv\"\n",
    "* \"run_one_run_baseline\"\n",
    "* \"sweep_adherence\"\n",
    "* \"alter_test_result_delay\"\n",
    "* \"change_teaching_space_transmission\"\n",
    "* \"amount_backwards_CT\"\n",
    "* \"class_CT_threshold\"\n",
    "* \"CT_engagement\"\n",
    "* \"asymp_scen\"\n",
    "* \"change_scaling\"\n",
    "* \"vary_household_allocation_strat\"\n",
    "* \"vary_accom_level_lockdown\"\n",
    "* \"run_mass_testing\", \n",
    "* \"run_mass_testing_6configs\"\n",
    "* \"run_no_interventions\", \n",
    "* \"run_one_run_baseline_nointerv\"\n",
    "* \"change_recov_propn\"\n",
    "* \"rehouse_strat_check\""
   ]
  },
  {
   "cell_type": "code",
   "execution_count": null,
   "metadata": {},
   "outputs": [],
   "source": [
    "runset = \"run_one_run_baseline_nointerv\"\n"
   ]
  },
  {
   "cell_type": "markdown",
   "metadata": {},
   "source": [
    "Specify the simulation parameters"
   ]
  },
  {
   "cell_type": "code",
   "execution_count": null,
   "metadata": {},
   "outputs": [],
   "source": [
    "countfinal=10   # Number of simulations to be performed per scenario\n",
    "endtime=77    # Timesteps for each individual simulation\n",
    "\n",
    "n_students = 25000  # Number of students (7155 on campus, 27278 overall in 2018/2019.)\n",
    "                    # Estimate 25,000 students in local region (~24,500 based on 2019/2020 records)\n",
    "n_students_on_campus = 7155\n",
    "n_cohorts = 84\n",
    "\n",
    "seed_initial_states_fn = seed_states_using_ODEmodel\n",
    "\n",
    "RNGseed = 100 # Seed the random number generator"
   ]
  },
  {
   "cell_type": "markdown",
   "metadata": {},
   "source": [
    "Certain aspects have multiple premade functions. Generating society membership, class assignment and household transmission risk are given below, with alternative function choices given in the file \"network_generation_fns.jl\""
   ]
  },
  {
   "cell_type": "code",
   "execution_count": null,
   "metadata": {},
   "outputs": [],
   "source": [
    "\"\"\"\n",
    "Specify society assignment function\n",
    "\"\"\"\n",
    "# If needed, set a different fn from the default\n",
    "assign_societies_fn_alt = assign_societies_from_aggregated_data"
   ]
  },
  {
   "cell_type": "code",
   "execution_count": null,
   "metadata": {},
   "outputs": [],
   "source": [
    "\"\"\"\n",
    "Specify function to allocate students to department/cohort & classes\n",
    "\"\"\"\n",
    "# If needed, set a different class assignment function from the default\n",
    "generate_classes_fn_alt = generate_classes_all_students "
   ]
  },
  {
   "cell_type": "code",
   "execution_count": null,
   "metadata": {
    "scrolled": true
   },
   "outputs": [],
   "source": [
    "\"\"\"\n",
    "Specify household transmission risk by group\n",
    "\"\"\"\n",
    "# Specify function to perform household group allocation\n",
    "assign_household_transrisk_fn_alt = assign_household_transmit_household_size!\n"
   ]
  },
  {
   "cell_type": "markdown",
   "metadata": {},
   "source": [
    "Load the parameters specified for the chosen scenario (parameters listed in \"additional_fns.jl\"). Here we only load the first configuration."
   ]
  },
  {
   "cell_type": "code",
   "execution_count": null,
   "metadata": {},
   "outputs": [],
   "source": [
    "    adherence_config, sameday_config, ton_config, toff_config, work_perc_config,\n",
    "    num_config, work_or_study_group_CT_threshold_config, prob_backwards_CT_config,\n",
    "    infector_engage_with_CT_prob_config, CT_engagement_config, probasymp_config,\n",
    "    transasymp_config, scaling_config, suscep_config,\n",
    "    n_students_config, recov_propn_config,\n",
    "    rehouse_strat_config,\n",
    "    CT_delay_until_test_result_config,\n",
    "    intervention_fn_config, assign_household_fn_config,\n",
    "    mass_testing_config = load_configs(runset,countfinal,n_cohorts,n_students)"
   ]
  },
  {
   "cell_type": "code",
   "execution_count": null,
   "metadata": {},
   "outputs": [],
   "source": [
    "it = 1\n",
    "\n",
    "        adherence = adherence_config[it]\n",
    "        sameday = sameday_config[it]\n",
    "        ton = ton_config[it]\n",
    "        toff = toff_config[it]\n",
    "        attendence_propns = work_perc_config[it,:,:]\n",
    "        work_or_study_group_CT_threshold = work_or_study_group_CT_threshold_config[it]\n",
    "        prob_backwards_CT = prob_backwards_CT_config[it]\n",
    "        infector_engage_with_CT_prob = infector_engage_with_CT_prob_config[it]\n",
    "        CT_engagement = CT_engagement_config[it]\n",
    "        prob_asymp = probasymp_config[it]\n",
    "        asymp_trans_scaling = transasymp_config[it]\n",
    "        scaling = scaling_config[it]\n",
    "        suscep_scaling = suscep_config[it]\n",
    "        local n_students = n_students_config[it]\n",
    "        recov_propn = recov_propn_config[it]\n",
    "        rehouse_strat_active = rehouse_strat_config[it]\n",
    "        # RNGseed = RNGseed_config[it]\n",
    "        CT_delay_until_test_result_pmf_alt = CT_delay_until_test_result_config[it,:]\n",
    "        intervention_fns_alt = intervention_fn_config[it,:]\n",
    "        generate_student_households_fn_alt = assign_household_fn_config[it]\n",
    "        mass_testing_parameters_alt = mass_testing_config[it]"
   ]
  },
  {
   "cell_type": "markdown",
   "metadata": {},
   "source": [
    "Set whether the following interventions are active, based on configuration being run:\n",
    "\n",
    "* forward contact tracing\n",
    "* backward contact tracing\n",
    "* class closures\n",
    "* mass testing"
   ]
  },
  {
   "cell_type": "code",
   "execution_count": null,
   "metadata": {},
   "outputs": [],
   "source": [
    "# Set if contact tracing is active or not (Bool type variable)\n",
    "contact_tracing_active = false\n",
    "\n",
    "# Set if class closures is active or not (Bool type variable)\n",
    "work_study_group_closure_active = false\n",
    "\n",
    "# set if backwards contact tracing is active or not (Bool type variable)\n",
    "perform_CT_from_infector = false\n",
    "\n",
    "\n",
    "    # Specify if mass testing module is in use\n",
    "    if (runset == \"run_mass_testing\") || (runset == \"run_mass_testing_6configs\") ||\n",
    "         (runset == \"run_mass_testing_alter_adherence\") || (runset == \"run_mass_testing_frequent\")\n",
    "        mass_testing_active = true\n",
    "    else\n",
    "        mass_testing_active = false\n",
    "    end\n",
    "\n",
    "        if runset==\"amount_backwards_CT\"\n",
    "            perform_CT_from_infector = true\n",
    "            contact_tracing_active = true\n",
    "        end\n",
    "\n",
    "        if runset==\"class_CT_threshold\"\n",
    "            work_study_group_closure_active = true\n",
    "        end\n",
    "\n",
    "        if (runset==\"CT_engagement\")||(runset==\"amount_backwards_CT\")||\n",
    "            (runset==\"sweep_adherence\")||(runset==\"sweep_adherence_with_rehouse\")||\n",
    "            (runset==\"alter_test_result_delay\")||\n",
    "            (runset==\"change_teaching_space_transmission\")||\n",
    "            (runset==\"vary_accom_level_lockdown\")||\n",
    "            (runset==\"run_one_run_accom_lockdown_baseline\") ||\n",
    "            (runset==\"vary_household_allocation_strat\") ||\n",
    "            (runset==\"run_mass_testing\") ||\n",
    "            (runset==\"run_mass_testing_6configs\") ||\n",
    "            (runset==\"run_mass_testing_alter_adherence\") ||\n",
    "            (runset==\"run_mass_testing_frequent\") ||\n",
    "            (runset==\"run_baseline_mass_testing\") ||\n",
    "            (runset==\"run_one_run_baseline\") ||\n",
    "            (runset==\"rehouse_strat_check\")\n",
    "            contact_tracing_active = true\n",
    "        end\n",
    "\n",
    "        # Set society & sports club transmission risk.\n",
    "        if (runset==\"run_no_interventions\") || (runset==\"run_one_run_baseline_nointerv\") ||\n",
    "            (runset==\"trans_risk_scale_no_interv\") || (runset==\"probasymp_scale_no_interv\") ||\n",
    "            (runset==\"transasymp_scale_no_interv\")\n",
    "            # No interventions scenario.\n",
    "            # Society risk matches social contacts. Sports club matches household risk.\n",
    "            society_sports_transrisk_mean = [0.2414,0.34]\n",
    "        else\n",
    "            # Transmission risk with interventions in place\n",
    "            society_sports_transrisk_mean = [0.12, 0.2414]\n",
    "        end"
   ]
  },
  {
   "cell_type": "markdown",
   "metadata": {},
   "source": [
    "Set up network parameters. Uses requested number of cohort types.\n",
    "\n",
    "* For options, the function resides in \"include_files_uni_model/additional_fns.jl\""
   ]
  },
  {
   "cell_type": "code",
   "execution_count": null,
   "metadata": {},
   "outputs": [],
   "source": [
    "        \n",
    "        network_parameters, team_generation_parameters = find_network_parameters(n_cohorts,\n",
    "                                                                                attendence_propns=attendence_propns,\n",
    "                                                                                n_students = n_students,\n",
    "                                                                                n_students_on_campus = n_students_on_campus\n",
    "                                                                                )\n",
    "\n",
    "        CT_parameters = CT_params(prob_backwards_CT = prob_backwards_CT,\n",
    "                                    perform_CT_from_infector = perform_CT_from_infector,\n",
    "                                    infector_engage_with_CT_prob = infector_engage_with_CT_prob,\n",
    "                                    work_or_study_group_CT_threshold = work_or_study_group_CT_threshold,\n",
    "                                    CT_engagement = CT_engagement,\n",
    "                                    CT_delay_until_test_result_pmf = CT_delay_until_test_result_pmf_alt\n",
    "                                    #test_false_negative_vec = test_false_negative_vec_alt\n",
    "                                    )\n",
    "\n",
    "        infection_parameters = infection_params(n_cohorts = n_cohorts,\n",
    "                                                transrisk_household_18_34_group_mean=scaling,\n",
    "                                                suscep_scaling = suscep_scaling,\n",
    "                                                probasymp_dist = prob_asymp,\n",
    "                                                asymp_trans_scaling_dist = asymp_trans_scaling,\n",
    "                                                adherence = adherence,\n",
    "                                                recov_propn = recov_propn,\n",
    "                                                society_sports_transrisk_mean = society_sports_transrisk_mean,\n",
    "                                                #delay_adherence_pmf = delay_adherence_pmf_alt\n",
    "                                                #transrisk_household_group = transrisk_household_group_alt\n",
    "                                                )\n",
    "\n",
    "        # Establish society generation parameters\n",
    "        society_generation_parameters = society_generation_params()"
   ]
  },
  {
   "cell_type": "markdown",
   "metadata": {},
   "source": [
    "Call function (located in \"include_files_network_model/main_function.jl\") and unpack the output variable."
   ]
  },
  {
   "cell_type": "code",
   "execution_count": null,
   "metadata": {},
   "outputs": [],
   "source": [
    " if contact_tracing_active==true\n",
    "                @time  output = uni_network_run(RNGseed,\n",
    "                                                n_students,\n",
    "                                                ton,toff,\n",
    "                                                infection_parameters,\n",
    "                                                sameday,\n",
    "                                                seed_initial_states_fn,\n",
    "                                                countfinal,\n",
    "                                                endtime,\n",
    "                                                contact_tracing_active,\n",
    "                                                CT_parameters,\n",
    "                                                network_parameters,\n",
    "                                                team_generation_parameters,\n",
    "                                                society_generation_parameters,\n",
    "                                                work_study_group_closure_active,\n",
    "                                                mass_testing_active,\n",
    "                                                rehouse_strat_active,\n",
    "                                                mass_testing_parameters = mass_testing_parameters_alt,\n",
    "                                                intervention_fns = intervention_fns_alt,\n",
    "                                                generate_student_households_fn = generate_student_households_fn_alt,\n",
    "                                                assign_societies_fn = assign_societies_fn_alt,\n",
    "                                                generate_classes_fn = generate_classes_fn_alt,\n",
    "                                                assign_household_transrisk_fn = assign_household_transrisk_fn_alt\n",
    "                                                )\n",
    "                @unpack numlat, numinf, numrep,\n",
    "                        prevlat, prevsymp, prevasymp, prevpresymp, prevrec,\n",
    "                        newinf, newasymp, atworkinf, atworkasymp, infected_by,\n",
    "                        num_isolating, num_isolating_oncampus, num_isolating_offcampus,\n",
    "                        num_household_isolating, num_symp_isolating, num_asymp_isolating,\n",
    "                        num_isolating_CTcause,\n",
    "                        num_accom_lockdown_isolating,\n",
    "                        num_CT, num_infected, social_dynamic_infection_count,\n",
    "                        accommodation_dynamic_infection_count, household_infection_count,\n",
    "                        var_num_infected, num_init_infected, mean_init_generation_time,\n",
    "                        Rt,\n",
    "                        new_rehoused, current_rehoused,\n",
    "                        tests_performed, test_outcomes,\n",
    "                        cohort_infection_count, society_infection_count,\n",
    "                        n_oncampus_inf, n_offcampus_inf,\n",
    "                        n_isol_adhering, n_isol_adhering_oncampus, n_isol_adhering_offcampus = output\n",
    "else\n",
    "               @time  output = uni_network_run(RNGseed,\n",
    "                                               n_students,\n",
    "                                               ton,toff,\n",
    "                                               infection_parameters,\n",
    "                                               sameday,\n",
    "                                               seed_initial_states_fn,\n",
    "                                               countfinal,\n",
    "                                               endtime,\n",
    "                                               contact_tracing_active,\n",
    "                                               CT_parameters,\n",
    "                                               network_parameters,\n",
    "                                               team_generation_parameters,\n",
    "                                               society_generation_parameters,\n",
    "                                               work_study_group_closure_active,\n",
    "                                               mass_testing_active,\n",
    "                                               rehouse_strat_active,\n",
    "                                               mass_testing_parameters = mass_testing_parameters_alt,\n",
    "                                               intervention_fns = intervention_fns_alt,\n",
    "                                               generate_student_households_fn = generate_student_households_fn_alt,\n",
    "                                               assign_societies_fn = assign_societies_fn_alt,\n",
    "                                               generate_classes_fn = generate_classes_fn_alt,\n",
    "                                               assign_household_transrisk_fn = assign_household_transrisk_fn_alt\n",
    "                                               )\n",
    "               @unpack  numlat, numinf, numrep,\n",
    "                        prevlat, prevsymp, prevasymp, prevpresymp, prevrec,\n",
    "                        newinf, newasymp, atworkinf, atworkasymp, infected_by,\n",
    "                        num_isolating, num_isolating_oncampus, num_isolating_offcampus,\n",
    "                        num_household_isolating, num_symp_isolating, num_asymp_isolating,\n",
    "                       num_accom_lockdown_isolating,\n",
    "                       num_CT, num_infected,\n",
    "                       social_dynamic_infection_count,\n",
    "                       accommodation_dynamic_infection_count, household_infection_count,\n",
    "                       var_num_infected,\n",
    "                       num_init_infected, mean_init_generation_time, Rt,\n",
    "                       new_rehoused, current_rehoused,\n",
    "                       tests_performed, test_outcomes,\n",
    "                       cohort_infection_count,\n",
    "                       society_infection_count,\n",
    "                       n_oncampus_inf, n_offcampus_inf,\n",
    "                       n_isol_adhering, n_isol_adhering_oncampus, n_isol_adhering_offcampus = output\n",
    " end"
   ]
  },
  {
   "cell_type": "markdown",
   "metadata": {},
   "source": [
    "The outputs may then undergo further analysis and/or be saved to file."
   ]
  }
 ],
 "metadata": {
  "kernelspec": {
   "display_name": "Julia 1.4.1",
   "language": "julia",
   "name": "julia-1.4"
  },
  "language_info": {
   "file_extension": ".jl",
   "mimetype": "application/julia",
   "name": "julia",
   "version": "1.4.2"
  }
 },
 "nbformat": 4,
 "nbformat_minor": 2
}

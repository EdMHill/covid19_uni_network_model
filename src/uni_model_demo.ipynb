{
 "cells": [
  {
   "cell_type": "markdown",
   "metadata": {},
   "source": [
    "## Running the university population network model\n",
    "\n",
    "This notebook demos running the university network model and demonstrates a selection of the variables that may be altered.  "
   ]
  },
  {
   "cell_type": "markdown",
   "metadata": {},
   "source": [
    "We start by activating the project environment and loading the packages required to execute the upcoming code. \n",
    "Relevant julia doucmentation: [Package manager](https://docs.julialang.org/en/v1/stdlib/Pkg/), [envrionments](https://julialang.github.io/Pkg.jl/v1.1/environments/).\n"
   ]
  },
  {
   "cell_type": "code",
   "execution_count": 1,
   "metadata": {},
   "outputs": [
    {
     "name": "stderr",
     "output_type": "stream",
     "text": [
      "\u001b[32m\u001b[1m Activating\u001b[22m\u001b[39m environment at `~/Documents/GitHub/covid19_uni_network_model/Project.toml`\n",
      "┌ Info: Precompiling MAT [23992714-dd62-5051-b70f-ba57cb901cac]\n",
      "└ @ Base loading.jl:1260\n",
      "┌ Info: Precompiling Distributions [31c24e10-a181-5473-b8eb-7969acd0382f]\n",
      "└ @ Base loading.jl:1260\n",
      "┌ Info: Precompiling Parameters [d96e819e-fc66-5662-9728-84c9c7592b0a]\n",
      "└ @ Base loading.jl:1260\n"
     ]
    }
   ],
   "source": [
    "#Load environment\n",
    "using Pkg\n",
    "Pkg.activate(\"../\")\n",
    "\n",
    "#Required packages\n",
    "using MAT, Distributions\n",
    "using LinearAlgebra, Random, DelimitedFiles, Parameters"
   ]
  },
  {
   "cell_type": "markdown",
   "metadata": {},
   "source": [
    "We next include supporting files that contain functions that will be called when performing simulations."
   ]
  },
  {
   "cell_type": "code",
   "execution_count": 2,
   "metadata": {},
   "outputs": [
    {
     "data": {
      "text/plain": [
       "uni_network_run (generic function with 1 method)"
      ]
     },
     "execution_count": 2,
     "metadata": {},
     "output_type": "execute_result"
    }
   ],
   "source": [
    "\"\"\"\n",
    "Load supporting files\n",
    "\"\"\"\n",
    "# Files containing other functions needed to run the model\n",
    "include(\"include_files_uni_model/parametertypes.jl\")\n",
    "include(\"include_files_uni_model/contact_tracing_fns.jl\")\n",
    "include(\"include_files_uni_model/network_generation_fns.jl\")\n",
    "include(\"include_files_uni_model/additional_fns.jl\")\n",
    "include(\"include_files_uni_model/intervention_condition_affect_fns.jl\")\n",
    "include(\"include_files_uni_model/mass_testing_fns.jl\")\n",
    "include(\"include_files_uni_model/seed_initial_states_fns.jl\")\n",
    "include(\"include_files_uni_model/student_travel_fns.jl\")\n",
    "include(\"include_files_uni_model/main_function.jl\")"
   ]
  },
  {
   "cell_type": "markdown",
   "metadata": {},
   "source": [
    "Set the batch of cconfigurations to be run. Options include:\n",
    "\n",
    "* \"run_one_run_baseline_nointerv\"\n",
    "* \"run_one_run_baseline\"\n",
    "* \"sweep_adherence\"\n",
    "* \"alter_test_result_delay\"\n",
    "* \"change_teaching_space_transmission\"\n",
    "* \"amount_backwards_CT\"\n",
    "* \"class_CT_threshold\"\n",
    "* \"CT_engagement\"\n",
    "* \"asymp_scen\"\n",
    "* \"change_scaling\"\n",
    "* \"vary_household_allocation_strat\"\n",
    "* \"vary_accom_level_lockdown\"\n",
    "* \"run_mass_testing\", \n",
    "* \"run_mass_testing_6configs\"\n",
    "* \"run_no_interventions\", \n",
    "* \"run_one_run_baseline_nointerv\"\n",
    "* \"change_recov_propn\"\n",
    "* \"rehouse_strat_check\""
   ]
  },
  {
   "cell_type": "code",
   "execution_count": 15,
   "metadata": {},
   "outputs": [
    {
     "data": {
      "text/plain": [
       "\"sweep_adherence\""
      ]
     },
     "execution_count": 15,
     "metadata": {},
     "output_type": "execute_result"
    }
   ],
   "source": [
    "runset = \"run_one_run_baseline_nointerv\"\n"
   ]
  },
  {
   "cell_type": "markdown",
   "metadata": {},
   "source": [
    "Specify the simulation parameters"
   ]
  },
  {
   "cell_type": "code",
   "execution_count": 16,
   "metadata": {},
   "outputs": [
    {
     "data": {
      "text/plain": [
       "100"
      ]
     },
     "execution_count": 16,
     "metadata": {},
     "output_type": "execute_result"
    }
   ],
   "source": [
    "countfinal=10   # Number of simulations to be performed per scenario\n",
    "endtime=77    # Timesteps for each individual simulation\n",
    "\n",
    "n_students = 25000  # Number of students (7155 on campus, 27278 overall in 2018/2019.)\n",
    "                    # Estimate 25,000 students in local region (~24,500 based on 2019/2020 records)\n",
    "n_students_on_campus = 7155\n",
    "n_cohorts = 84\n",
    "\n",
    "seed_initial_states_fn = seed_states_using_ODEmodel\n",
    "\n",
    "RNGseed = 100 # Seed the random number generator"
   ]
  },
  {
   "cell_type": "markdown",
   "metadata": {},
   "source": [
    "Certain aspects have multiple premade functions that may be selected between. Generating society membership, class assignment and household transmission risk are given below, with alternative function choices given in the file \"network_generation_fns.jl\""
   ]
  },
  {
   "cell_type": "code",
   "execution_count": 17,
   "metadata": {},
   "outputs": [
    {
     "data": {
      "text/plain": [
       "assign_societies_from_aggregated_data (generic function with 1 method)"
      ]
     },
     "execution_count": 17,
     "metadata": {},
     "output_type": "execute_result"
    }
   ],
   "source": [
    "\"\"\"\n",
    "Specify society assignment function\n",
    "\"\"\"\n",
    "# If needed, set a different fn from the default\n",
    "assign_societies_fn_alt = assign_societies_from_aggregated_data"
   ]
  },
  {
   "cell_type": "code",
   "execution_count": 18,
   "metadata": {},
   "outputs": [
    {
     "data": {
      "text/plain": [
       "generate_classes_all_students (generic function with 1 method)"
      ]
     },
     "execution_count": 18,
     "metadata": {},
     "output_type": "execute_result"
    }
   ],
   "source": [
    "\"\"\"\n",
    "Specify function to allocate students to department/cohort & classes\n",
    "\"\"\"\n",
    "# If needed, set a different class assignment function from the default\n",
    "generate_classes_fn_alt = generate_classes_all_students "
   ]
  },
  {
   "cell_type": "code",
   "execution_count": 20,
   "metadata": {},
   "outputs": [
    {
     "data": {
      "text/plain": [
       "assign_household_transmit_household_size! (generic function with 1 method)"
      ]
     },
     "execution_count": 20,
     "metadata": {},
     "output_type": "execute_result"
    }
   ],
   "source": [
    "\"\"\"\n",
    "Specify household transmission risk by group\n",
    "\"\"\"\n",
    "# Specify function to perform household group allocation\n",
    "assign_household_transrisk_fn_alt = assign_household_transmit_household_size!\n"
   ]
  },
  {
   "cell_type": "markdown",
   "metadata": {},
   "source": [
    "Load the parameters specified for the chosen scenario (parameters listed in \"additional_fns.jl\"). We load the first cconfiguration only here."
   ]
  },
  {
   "cell_type": "code",
   "execution_count": 21,
   "metadata": {},
   "outputs": [
    {
     "data": {
      "text/plain": [
       "([0.0, 0.1, 0.2, 0.3, 0.4, 0.5, 0.6, 0.7, 0.8, 0.9, 1.0], [3, 3, 3, 3, 3, 3, 3, 3, 3, 3, 3], [1, 1, 1, 1, 1, 1, 1, 1, 1, 1, 1], [0, 0, 0, 0, 0, 0, 0, 0, 0, 0, 0], [1.0 1.0 … 1.0 1.0; 1.0 1.0 … 1.0 1.0; … ; 1.0 1.0 … 1.0 1.0; 1.0 1.0 … 1.0 1.0]\n",
       "\n",
       "[1.0 1.0 … 1.0 1.0; 1.0 1.0 … 1.0 1.0; … ; 1.0 1.0 … 1.0 1.0; 1.0 1.0 … 1.0 1.0]\n",
       "\n",
       "[1.0 1.0 … 1.0 1.0; 1.0 1.0 … 1.0 1.0; … ; 1.0 1.0 … 1.0 1.0; 1.0 1.0 … 1.0 1.0], 11, [0.5, 0.5, 0.5, 0.5, 0.5, 0.5, 0.5, 0.5, 0.5, 0.5, 0.5], [0.0, 0.0, 0.0, 0.0, 0.0, 0.0, 0.0, 0.0, 0.0, 0.0, 0.0], [1.0, 1.0, 1.0, 1.0, 1.0, 1.0, 1.0, 1.0, 1.0, 1.0, 1.0], [1.0, 1.0, 1.0, 1.0, 1.0, 1.0, 1.0, 1.0, 1.0, 1.0, 1.0], Uniform{Float64}[Uniform{Float64}(a=0.5, b=0.8), Uniform{Float64}(a=0.5, b=0.8), Uniform{Float64}(a=0.5, b=0.8), Uniform{Float64}(a=0.5, b=0.8), Uniform{Float64}(a=0.5, b=0.8), Uniform{Float64}(a=0.5, b=0.8), Uniform{Float64}(a=0.5, b=0.8), Uniform{Float64}(a=0.5, b=0.8), Uniform{Float64}(a=0.5, b=0.8), Uniform{Float64}(a=0.5, b=0.8), Uniform{Float64}(a=0.5, b=0.8)], Uniform{Float64}[Uniform{Float64}(a=0.3, b=0.7), Uniform{Float64}(a=0.3, b=0.7), Uniform{Float64}(a=0.3, b=0.7), Uniform{Float64}(a=0.3, b=0.7), Uniform{Float64}(a=0.3, b=0.7), Uniform{Float64}(a=0.3, b=0.7), Uniform{Float64}(a=0.3, b=0.7), Uniform{Float64}(a=0.3, b=0.7), Uniform{Float64}(a=0.3, b=0.7), Uniform{Float64}(a=0.3, b=0.7), Uniform{Float64}(a=0.3, b=0.7)], [0.34, 0.34, 0.34, 0.34, 0.34, 0.34, 0.34, 0.34, 0.34, 0.34, 0.34], [0.8, 0.8, 0.8, 0.8, 0.8, 0.8, 0.8, 0.8, 0.8, 0.8, 0.8], [25000, 25000, 25000, 25000, 25000, 25000, 25000, 25000, 25000, 25000, 25000], [0.1, 0.1, 0.1, 0.1, 0.1, 0.1, 0.1, 0.1, 0.1, 0.1, 0.1], Bool[0, 0, 0, 0, 0, 0, 0, 0, 0, 0, 0], [0.0 0.0 … 0.0 0.0; 0.0 0.0 … 0.0 0.0; … ; 0.0 0.0 … 0.0 0.0; 0.0 0.0 … 0.0 0.0], Function[dummy_example!, dummy_example!, dummy_example!, dummy_example!, dummy_example!, dummy_example!, dummy_example!, dummy_example!, dummy_example!, dummy_example!, dummy_example!], [\"assign_households_all_students\", \"assign_households_all_students\", \"assign_households_all_students\", \"assign_households_all_students\", \"assign_households_all_students\", \"assign_households_all_students\", \"assign_households_all_students\", \"assign_households_all_students\", \"assign_households_all_students\", \"assign_households_all_students\", \"assign_households_all_students\"], mass_testing_params[mass_testing_params([0], [1.0], [1.0], [0.0, 0.11, 0.59, 0.785, 0.83, 0.845, 0.84, 0.82, 0.79, 0.76  …  0.3, 0.27, 0.24, 0.22, 0.2, 0.18, 0.16, 0.15, 0.14, 0.13], [0], Array{Int64,1}[], Array{Int64,1}[], Array{Int64,1}[], Array{Int64,1}[], Array{Int64,1}[], Array{Int64,1}[]), mass_testing_params([0], [1.0], [1.0], [0.0, 0.11, 0.59, 0.785, 0.83, 0.845, 0.84, 0.82, 0.79, 0.76  …  0.3, 0.27, 0.24, 0.22, 0.2, 0.18, 0.16, 0.15, 0.14, 0.13], [0], Array{Int64,1}[], Array{Int64,1}[], Array{Int64,1}[], Array{Int64,1}[], Array{Int64,1}[], Array{Int64,1}[]), mass_testing_params([0], [1.0], [1.0], [0.0, 0.11, 0.59, 0.785, 0.83, 0.845, 0.84, 0.82, 0.79, 0.76  …  0.3, 0.27, 0.24, 0.22, 0.2, 0.18, 0.16, 0.15, 0.14, 0.13], [0], Array{Int64,1}[], Array{Int64,1}[], Array{Int64,1}[], Array{Int64,1}[], Array{Int64,1}[], Array{Int64,1}[]), mass_testing_params([0], [1.0], [1.0], [0.0, 0.11, 0.59, 0.785, 0.83, 0.845, 0.84, 0.82, 0.79, 0.76  …  0.3, 0.27, 0.24, 0.22, 0.2, 0.18, 0.16, 0.15, 0.14, 0.13], [0], Array{Int64,1}[], Array{Int64,1}[], Array{Int64,1}[], Array{Int64,1}[], Array{Int64,1}[], Array{Int64,1}[]), mass_testing_params([0], [1.0], [1.0], [0.0, 0.11, 0.59, 0.785, 0.83, 0.845, 0.84, 0.82, 0.79, 0.76  …  0.3, 0.27, 0.24, 0.22, 0.2, 0.18, 0.16, 0.15, 0.14, 0.13], [0], Array{Int64,1}[], Array{Int64,1}[], Array{Int64,1}[], Array{Int64,1}[], Array{Int64,1}[], Array{Int64,1}[]), mass_testing_params([0], [1.0], [1.0], [0.0, 0.11, 0.59, 0.785, 0.83, 0.845, 0.84, 0.82, 0.79, 0.76  …  0.3, 0.27, 0.24, 0.22, 0.2, 0.18, 0.16, 0.15, 0.14, 0.13], [0], Array{Int64,1}[], Array{Int64,1}[], Array{Int64,1}[], Array{Int64,1}[], Array{Int64,1}[], Array{Int64,1}[]), mass_testing_params([0], [1.0], [1.0], [0.0, 0.11, 0.59, 0.785, 0.83, 0.845, 0.84, 0.82, 0.79, 0.76  …  0.3, 0.27, 0.24, 0.22, 0.2, 0.18, 0.16, 0.15, 0.14, 0.13], [0], Array{Int64,1}[], Array{Int64,1}[], Array{Int64,1}[], Array{Int64,1}[], Array{Int64,1}[], Array{Int64,1}[]), mass_testing_params([0], [1.0], [1.0], [0.0, 0.11, 0.59, 0.785, 0.83, 0.845, 0.84, 0.82, 0.79, 0.76  …  0.3, 0.27, 0.24, 0.22, 0.2, 0.18, 0.16, 0.15, 0.14, 0.13], [0], Array{Int64,1}[], Array{Int64,1}[], Array{Int64,1}[], Array{Int64,1}[], Array{Int64,1}[], Array{Int64,1}[]), mass_testing_params([0], [1.0], [1.0], [0.0, 0.11, 0.59, 0.785, 0.83, 0.845, 0.84, 0.82, 0.79, 0.76  …  0.3, 0.27, 0.24, 0.22, 0.2, 0.18, 0.16, 0.15, 0.14, 0.13], [0], Array{Int64,1}[], Array{Int64,1}[], Array{Int64,1}[], Array{Int64,1}[], Array{Int64,1}[], Array{Int64,1}[]), mass_testing_params([0], [1.0], [1.0], [0.0, 0.11, 0.59, 0.785, 0.83, 0.845, 0.84, 0.82, 0.79, 0.76  …  0.3, 0.27, 0.24, 0.22, 0.2, 0.18, 0.16, 0.15, 0.14, 0.13], [0], Array{Int64,1}[], Array{Int64,1}[], Array{Int64,1}[], Array{Int64,1}[], Array{Int64,1}[], Array{Int64,1}[]), mass_testing_params([0], [1.0], [1.0], [0.0, 0.11, 0.59, 0.785, 0.83, 0.845, 0.84, 0.82, 0.79, 0.76  …  0.3, 0.27, 0.24, 0.22, 0.2, 0.18, 0.16, 0.15, 0.14, 0.13], [0], Array{Int64,1}[], Array{Int64,1}[], Array{Int64,1}[], Array{Int64,1}[], Array{Int64,1}[], Array{Int64,1}[])])"
      ]
     },
     "execution_count": 21,
     "metadata": {},
     "output_type": "execute_result"
    }
   ],
   "source": [
    "    adherence_config, sameday_config, ton_config, toff_config, work_perc_config,\n",
    "    num_config, work_or_study_group_CT_threshold_config, prob_backwards_CT_config,\n",
    "    infector_engage_with_CT_prob_config, CT_engagement_config, probasymp_config,\n",
    "    transasymp_config, scaling_config, suscep_config,\n",
    "    n_students_config, recov_propn_config,\n",
    "    rehouse_strat_config,\n",
    "    CT_delay_until_test_result_config,\n",
    "    intervention_fn_config, assign_household_fn_config,\n",
    "    mass_testing_config = load_configs(runset,countfinal,n_cohorts,n_students)"
   ]
  },
  {
   "cell_type": "code",
   "execution_count": 22,
   "metadata": {},
   "outputs": [
    {
     "data": {
      "text/plain": [
       "mass_testing_params\n",
       "  designated_test_times: Array{Int64}((1,)) [0]\n",
       "  on_campus_coverage_propn: Array{Float64}((1,)) [1.0]\n",
       "  off_campus_coverage_propn: Array{Float64}((1,)) [1.0]\n",
       "  asymp_test_detection_prob_vec: Array{Float64}((30,)) [0.0, 0.11, 0.59, 0.785, 0.83, 0.845, 0.84, 0.82, 0.79, 0.76  …  0.3, 0.27, 0.24, 0.22, 0.2, 0.18, 0.16, 0.15, 0.14, 0.13]\n",
       "  n_mass_tests_performed: Array{Int64}((1,)) [0]\n",
       "  n_tests_performed: Array{Array{Int64,1}}((0,))\n",
       "  n_tests_positive: Array{Array{Int64,1}}((0,))\n",
       "  n_all_isolations_caused: Array{Array{Int64,1}}((0,))\n",
       "  n_hh_isolations_caused: Array{Array{Int64,1}}((0,))\n",
       "  n_CT_isolations_caused: Array{Array{Int64,1}}((0,))\n",
       "  n_prev_infected_tested: Array{Array{Int64,1}}((0,))\n"
      ]
     },
     "execution_count": 22,
     "metadata": {},
     "output_type": "execute_result"
    }
   ],
   "source": [
    "it = 1\n",
    "\n",
    "        adherence = adherence_config[it]\n",
    "        sameday = sameday_config[it]\n",
    "        ton = ton_config[it]\n",
    "        toff = toff_config[it]\n",
    "        attendence_propns = work_perc_config[it,:,:]\n",
    "        work_or_study_group_CT_threshold = work_or_study_group_CT_threshold_config[it]\n",
    "        prob_backwards_CT = prob_backwards_CT_config[it]\n",
    "        infector_engage_with_CT_prob = infector_engage_with_CT_prob_config[it]\n",
    "        CT_engagement = CT_engagement_config[it]\n",
    "        prob_asymp = probasymp_config[it]\n",
    "        asymp_trans_scaling = transasymp_config[it]\n",
    "        scaling = scaling_config[it]\n",
    "        suscep_scaling = suscep_config[it]\n",
    "        local n_students = n_students_config[it]\n",
    "        recov_propn = recov_propn_config[it]\n",
    "        rehouse_strat_active = rehouse_strat_config[it]\n",
    "        # RNGseed = RNGseed_config[it]\n",
    "        CT_delay_until_test_result_pmf_alt = CT_delay_until_test_result_config[it,:]\n",
    "        intervention_fns_alt = intervention_fn_config[it,:]\n",
    "        generate_student_households_fn_alt = assign_household_fn_config[it]\n",
    "        mass_testing_parameters_alt = mass_testing_config[it]"
   ]
  },
  {
   "cell_type": "markdown",
   "metadata": {},
   "source": [
    "Set whether the following interventions are active, based on configuration being run:\n",
    "\n",
    "* forward contact tracing\n",
    "* backward contact tracing\n",
    "* class closures\n",
    "* mass testing"
   ]
  },
  {
   "cell_type": "code",
   "execution_count": 23,
   "metadata": {},
   "outputs": [
    {
     "data": {
      "text/plain": [
       "2-element Array{Float64,1}:\n",
       " 0.12\n",
       " 0.2414"
      ]
     },
     "execution_count": 23,
     "metadata": {},
     "output_type": "execute_result"
    }
   ],
   "source": [
    "# Set if contact tracing is active or not (Bool type variable)\n",
    "contact_tracing_active = false\n",
    "\n",
    "# Set if class closures is active or not (Bool type variable)\n",
    "work_study_group_closure_active = false\n",
    "\n",
    "# set if backwards contact tracing is active or not (Bool type variable)\n",
    "perform_CT_from_infector = false\n",
    "\n",
    "\n",
    "    # Specify if mass testing module is in use\n",
    "    if (runset == \"run_mass_testing\") || (runset == \"run_mass_testing_6configs\") ||\n",
    "         (runset == \"run_mass_testing_alter_adherence\") || (runset == \"run_mass_testing_frequent\")\n",
    "        mass_testing_active = true\n",
    "    else\n",
    "        mass_testing_active = false\n",
    "    end\n",
    "\n",
    "        if runset==\"amount_backwards_CT\"\n",
    "            perform_CT_from_infector = true\n",
    "            contact_tracing_active = true\n",
    "        end\n",
    "\n",
    "        if runset==\"class_CT_threshold\"\n",
    "            work_study_group_closure_active = true\n",
    "        end\n",
    "\n",
    "        if (runset==\"CT_engagement\")||(runset==\"amount_backwards_CT\")||\n",
    "            (runset==\"sweep_adherence\")||(runset==\"sweep_adherence_with_rehouse\")||\n",
    "            (runset==\"alter_test_result_delay\")||\n",
    "            (runset==\"change_teaching_space_transmission\")||\n",
    "            (runset==\"vary_accom_level_lockdown\")||\n",
    "            (runset==\"run_one_run_accom_lockdown_baseline\") ||\n",
    "            (runset==\"vary_household_allocation_strat\") ||\n",
    "            (runset==\"run_mass_testing\") ||\n",
    "            (runset==\"run_mass_testing_6configs\") ||\n",
    "            (runset==\"run_mass_testing_alter_adherence\") ||\n",
    "            (runset==\"run_mass_testing_frequent\") ||\n",
    "            (runset==\"run_baseline_mass_testing\") ||\n",
    "            (runset==\"run_one_run_baseline\") ||\n",
    "            (runset==\"rehouse_strat_check\")\n",
    "            contact_tracing_active = true\n",
    "        end\n",
    "\n",
    "        # Set society & sports club transmission risk.\n",
    "        if (runset==\"run_no_interventions\") || (runset==\"run_one_run_baseline_nointerv\") ||\n",
    "            (runset==\"trans_risk_scale_no_interv\") || (runset==\"probasymp_scale_no_interv\") ||\n",
    "            (runset==\"transasymp_scale_no_interv\")\n",
    "            # No interventions scenario.\n",
    "            # Society risk matches social contacts. Sports club matches household risk.\n",
    "            society_sports_transrisk_mean = [0.2414,0.34]\n",
    "        else\n",
    "            # Transmission risk with interventions in place\n",
    "            society_sports_transrisk_mean = [0.12, 0.2414]\n",
    "        end"
   ]
  },
  {
   "cell_type": "markdown",
   "metadata": {},
   "source": [
    "Set up network parameters. Uses requested number of cohort types.\n",
    "\n",
    "* For options, the function resides in \"incldue_files_uni_model/additional_fns.jl\""
   ]
  },
  {
   "cell_type": "code",
   "execution_count": 24,
   "metadata": {},
   "outputs": [
    {
     "data": {
      "text/plain": [
       "society_generation_params\n",
       "  society_types: Int64 2\n",
       "  society_type_proportion: Array{Float64}((2,)) [0.5, 0.5]\n",
       "  societies_joined_per_person_dist: Array{Float64}((6,)) [0.5, 0.4, 0.025, 0.025, 0.025, 0.025]\n"
      ]
     },
     "execution_count": 24,
     "metadata": {},
     "output_type": "execute_result"
    }
   ],
   "source": [
    "        \n",
    "        network_parameters, team_generation_parameters = find_network_parameters(n_cohorts,\n",
    "                                                                                attendence_propns=attendence_propns,\n",
    "                                                                                n_students = n_students,\n",
    "                                                                                n_students_on_campus = n_students_on_campus\n",
    "                                                                                )\n",
    "\n",
    "        CT_parameters = CT_params(prob_backwards_CT = prob_backwards_CT,\n",
    "                                    perform_CT_from_infector = perform_CT_from_infector,\n",
    "                                    infector_engage_with_CT_prob = infector_engage_with_CT_prob,\n",
    "                                    work_or_study_group_CT_threshold = work_or_study_group_CT_threshold,\n",
    "                                    CT_engagement = CT_engagement,\n",
    "                                    CT_delay_until_test_result_pmf = CT_delay_until_test_result_pmf_alt\n",
    "                                    #test_false_negative_vec = test_false_negative_vec_alt\n",
    "                                    )\n",
    "\n",
    "        infection_parameters = infection_params(n_cohorts = n_cohorts,\n",
    "                                                transrisk_household_18_34_group_mean=scaling,\n",
    "                                                suscep_scaling = suscep_scaling,\n",
    "                                                probasymp_dist = prob_asymp,\n",
    "                                                asymp_trans_scaling_dist = asymp_trans_scaling,\n",
    "                                                adherence = adherence,\n",
    "                                                recov_propn = recov_propn,\n",
    "                                                society_sports_transrisk_mean = society_sports_transrisk_mean,\n",
    "                                                #delay_adherence_pmf = delay_adherence_pmf_alt\n",
    "                                                #transrisk_household_group = transrisk_household_group_alt\n",
    "                                                )\n",
    "\n",
    "        # Establish society generation parameters\n",
    "        society_generation_parameters = society_generation_params()"
   ]
  },
  {
   "cell_type": "markdown",
   "metadata": {},
   "source": [
    "Call function (located in \"include_files_network_model/main_function.jl\") and unpack the output variable."
   ]
  },
  {
   "cell_type": "code",
   "execution_count": 25,
   "metadata": {},
   "outputs": [
    {
     "name": "stdout",
     "output_type": "stream",
     "text": [
      "  4.432858 seconds (10.87 M allocations: 1.095 GiB, 24.96% gc time)\n",
      "  0.062164 seconds (332.28 k allocations: 87.206 MiB)\n",
      "  1.659476 seconds (26.63 M allocations: 1.251 GiB)\n",
      "  5.129999 seconds (7.42 M allocations: 2.193 GiB, 43.60% gc time)\n",
      "Run 1 complete.\n",
      "Run 2 complete.\n",
      "Run 3 complete.\n",
      "Run 4 complete.\n",
      "Run 5 complete.\n",
      "Run 6 complete.\n",
      "Run 7 complete.\n",
      "Run 8 complete.\n",
      "Run 9 complete.\n",
      "Run 10 complete.\n",
      " 22.685167 seconds (50.18 M allocations: 9.894 GiB, 17.92% gc time)\n"
     ]
    },
    {
     "data": {
      "text/plain": [
       "sim_outputs\n",
       "  endtime: Int64 77\n",
       "  countfinal: Int64 10\n",
       "  n_students: Int64 25000\n",
       "  numlat: Array{Int64}((78, 10)) [44 31 … 24 33; 63 39 … 31 47; … ; 18378 18302 … 18324 18887; 18380 18304 … 18326 18888]\n",
       "  numinf: Array{Int64}((78, 10)) [64 59 … 53 62; 91 83 … 70 86; … ; 18436 18356 … 18367 18947; 18439 18359 … 18370 18948]\n",
       "  numrep: Array{Int64}((78, 10)) [0 0 … 0 0; 4 5 … 7 6; … ; 18388 18313 … 18310 18903; 18390 18315 … 18313 18905]\n",
       "  prevlat: Array{Int64}((78, 10)) [44 31 … 24 33; 36 15 … 14 23; … ; 6 5 … 10 2; 5 4 … 9 2]\n",
       "  prevsymp: Array{Int64}((78, 10)) [0 0 … 0 0; 0 0 … 0 0; … ; 31 15 … 66 14; 28 12 … 51 12]\n",
       "  prevasymp: Array{Int64}((78, 10)) [64 59 … 53 62; 72 72 … 60 71; … ; 37 79 … 121 26; 37 66 … 107 21]\n",
       "  prevpresymp: Array{Int64}((78, 10)) [0 0 … 0 0; 16 8 … 3 10; … ; 0 0 … 5 0; 2 2 … 3 1]\n",
       "  prevrec: Array{Int64}((78, 10)) [4102 3795 … 3634 3858; 4105 3798 … 3641 3863; … ; 22470 22057 … 21809 22765; 22474 22074 … 21843 22772]\n",
       "  newinf: Array{Int64}((78, 10)) [0 0 … 0 0; 27 24 … 17 24; … ; 0 0 … 5 1; 3 3 … 3 1]\n",
       "  newasymp: Array{Int64}((78, 10)) [0 0 … 0 0; 11 16 … 14 14; … ; 0 0 … 3 1; 1 1 … 3 0]\n",
       "  atworkinf: Array{Int64}((78, 10)) [0 0 … 0 0; 27 24 … 17 24; … ; 0 0 … 5 1; 3 3 … 3 1]\n",
       "  atworkasymp: Array{Int64}((78, 10)) [0 0 … 0 0; 11 16 … 14 14; … ; 0 0 … 3 1; 1 1 … 3 0]\n",
       "  num_CT: Array{Int64}((78, 10)) [0 0 … 0 0; 0 0 … 0 0; … ; 0 0 … 0 0; 0 0 … 0 0]\n",
       "  num_infected: Array{Int64}((25000, 10)) [0 3 … 1 8; 0 3 … 3 0; … ; 0 0 … 0 0; 0 0 … 0 0]\n",
       "  social_dynamic_infection_count: Array{Int64}((78, 10)) [0 0 … 0 0; 6 3 … 3 2; … ; 2 2 … 0 0; 0 1 … 2 1]\n",
       "  accommodation_dynamic_infection_count: Array{Int64}((78, 10)) [0 0 … 0 0; 1 0 … 0 1; … ; 0 0 … 0 0; 0 0 … 0 0]\n",
       "  household_infection_count: Array{Int64}((78, 10)) [0 0 … 0 0; 5 0 … 1 1; … ; 0 0 … 1 0; 2 1 … 0 0]\n",
       "  num_init_infected: Array{Array{Int64,1}}((10,))\n",
       "  Rt: Array{Float64}((78, 10)) [0.0 0.0 … 0.0 0.0; 3.6315789473684212 6.375 … 4.0 3.2142857142857144; … ; 0.0 0.0 … 0.0 NaN; 0.0 0.0 … 0.0 0.0]\n",
       "  prevlat_oncampus: Array{Int64}((78, 10)) [0 0 … 0 0; 7 2 … 8 10; … ; 1 1 … 0 0; 1 1 … 0 0]\n",
       "  prevsymp_oncampus: Array{Int64}((78, 10)) [0 0 … 0 0; 0 0 … 0 0; … ; 6 3 … 15 2; 4 3 … 9 2]\n",
       "  prevasymp_oncampus: Array{Int64}((78, 10)) [0 0 … 0 0; 13 22 … 17 25; … ; 4 9 … 11 2; 4 7 … 10 1]\n",
       "  prevpresymp_oncampus: Array{Int64}((78, 10)) [0 0 … 0 0; 7 2 … 1 1; … ; 0 0 … 0 0; 0 0 … 0 0]\n",
       "  prevrec_oncampus: Array{Int64}((78, 10)) [0 0 … 0 0; 1196 1099 … 1045 1063; … ; 6832 6847 … 6764 6917; 6834 6849 … 6771 6918]\n",
       "  prevlat_offcampus: Array{Int64}((78, 10)) [0 0 … 0 0; 29 13 … 6 13; … ; 5 4 … 10 2; 4 3 … 9 2]\n",
       "  prevsymp_offcampus: Array{Int64}((78, 10)) [0 0 … 0 0; 0 0 … 0 0; … ; 25 12 … 51 12; 24 9 … 42 10]\n",
       "  prevasymp_offcampus: Array{Int64}((78, 10)) [0 0 … 0 0; 59 50 … 43 46; … ; 33 70 … 110 24; 33 59 … 97 20]\n",
       "  prevpresymp_offcampus: Array{Int64}((78, 10)) [0 0 … 0 0; 9 6 … 2 9; … ; 0 0 … 5 0; 2 2 … 3 1]\n",
       "  prevrec_offcampus: Array{Int64}((78, 10)) [0 0 … 0 0; 2909 2699 … 2596 2800; … ; 15638 15210 … 15045 15848; 15640 15225 … 15072 15854]\n",
       "  num_isolating: Array{Int64}((78, 10)) [0 0 … 0 0; 0 0 … 0 0; … ; 0 0 … 0 0; 0 0 … 0 0]\n",
       "  num_isolating_oncampus: Array{Int64}((78, 10)) [0 0 … 0 0; 0 0 … 0 0; … ; 0 0 … 0 0; 0 0 … 0 0]\n",
       "  num_isolating_offcampus: Array{Int64}((78, 10)) [0 0 … 0 0; 0 0 … 0 0; … ; 0 0 … 0 0; 0 0 … 0 0]\n",
       "  num_household_isolating: Array{Int64}((78, 10)) [0 0 … 0 0; 0 0 … 0 0; … ; 0 0 … 0 0; 0 0 … 0 0]\n",
       "  num_symp_isolating: Array{Int64}((78, 10)) [0 0 … 0 0; 0 0 … 0 0; … ; 0 0 … 0 0; 0 0 … 0 0]\n",
       "  num_asymp_isolating: Array{Int64}((78, 10)) [0 0 … 0 0; 0 0 … 0 0; … ; 0 0 … 0 0; 0 0 … 0 0]\n",
       "  num_isolating_CTcause: Array{Int64}((78, 10)) [0 0 … 0 0; 0 0 … 0 0; … ; 0 0 … 0 0; 0 0 … 0 0]\n",
       "  num_accom_lockdown_isolating: Array{Int64}((78, 10)) [0 0 … 0 0; 0 0 … 0 0; … ; 0 0 … 0 0; 0 0 … 0 0]\n",
       "  new_rehoused: Array{Int64}((78, 10)) [0 0 … 0 0; 0 0 … 0 0; … ; 0 0 … 0 0; 0 0 … 0 0]\n",
       "  current_rehoused: Array{Int64}((78, 10)) [0 0 … 0 0; 0 0 … 0 0; … ; 0 0 … 0 0; 0 0 … 0 0]\n",
       "  tests_performed: Array{Int64}((78, 10)) [0 0 … 0 0; 0 0 … 0 0; … ; 0 0 … 0 0; 0 0 … 0 0]\n",
       "  test_outcomes: Array{Int64}((78, 10, 4)) [0 0 … 0 0; 0 0 … 0 0; … ; 0 0 … 0 0; 0 0 … 0 0]\n",
       "\n",
       "[0 0 … 0 0; 0 0 … 0 0; … ; 0 0 … 0 0; 0 0 … 0 0]\n",
       "\n",
       "[0 0 … 0 0; 0 0 … 0 0; … ; 0 0 … 0 0; 0 0 … 0 0]\n",
       "\n",
       "[0 0 … 0 0; 0 0 … 0 0; … ; 0 0 … 0 0; 0 0 … 0 0]\n",
       "  cohort_infection_count: Array{Int64}((78, 10, 84)) [0 0 … 0 0; 0 0 … 0 0; … ; 0 0 … 0 0; 0 0 … 0 0]\n",
       "\n",
       "[0 0 … 0 0; 1 0 … 0 0; … ; 0 0 … 0 0; 0 0 … 0 0]\n",
       "\n",
       "[0 0 … 0 0; 0 0 … 0 2; … ; 0 0 … 0 0; 0 0 … 0 0]\n",
       "\n",
       "...\n",
       "\n",
       "[0 0 … 0 0; 0 0 … 0 0; … ; 0 0 … 0 0; 0 0 … 0 0]\n",
       "\n",
       "[0 0 … 0 0; 0 0 … 0 0; … ; 0 0 … 0 0; 0 0 … 0 0]\n",
       "\n",
       "[0 0 … 0 0; 0 1 … 0 0; … ; 0 0 … 0 0; 0 0 … 0 0]\n",
       "  society_infection_count: Array{Int64}((78, 10, 335)) [0 0 … 0 0; 0 0 … 0 0; … ; 0 0 … 0 0; 0 0 … 0 0]\n",
       "\n",
       "[0 0 … 0 0; 0 0 … 0 0; … ; 0 0 … 0 0; 0 0 … 0 0]\n",
       "\n",
       "[0 0 … 0 0; 0 0 … 0 0; … ; 0 0 … 0 0; 0 0 … 0 0]\n",
       "\n",
       "...\n",
       "\n",
       "[0 0 … 0 0; 0 0 … 0 0; … ; 0 0 … 0 0; 0 0 … 0 0]\n",
       "\n",
       "[0 0 … 0 0; 0 0 … 0 0; … ; 0 0 … 0 0; 0 0 … 0 0]\n",
       "\n",
       "[0 0 … 0 0; 0 0 … 0 0; … ; 0 0 … 0 0; 0 0 … 0 0]\n",
       "  n_oncampus_inf: Array{Int64}((10,)) [5649, 5762, 5992, 5666, 5299, 5530, 5533, 5252, 5747, 5858]\n",
       "  n_offcampus_inf: Array{Int64}((10,)) [12795, 12601, 13448, 12587, 10237, 12007, 11617, 10831, 12632, 13092]\n",
       "  n_isol_adhering: Array{Int64}((10,)) [0, 0, 0, 0, 0, 0, 0, 0, 0, 0]\n",
       "  n_isol_adhering_oncampus: Array{Int64}((10,)) [0, 0, 0, 0, 0, 0, 0, 0, 0, 0]\n",
       "  n_isol_adhering_offcampus: Array{Int64}((10,)) [0, 0, 0, 0, 0, 0, 0, 0, 0, 0]\n",
       "  infected_by: Array{Int64}((25000,)) [0, 0, 0, 0, 0, 0, 0, 0, 0, 0  …  0, 0, 0, 0, 0, 0, 0, 0, 0, 0]\n",
       "  var_num_infected: Array{Int64}((10,)) [0, 0, 0, 0, 0, 0, 0, 0, 0, 0]\n",
       "  mean_init_generation_time: Array{Float64}((10,)) [5.819672131147541, 5.869565217391305, 5.045454545454546, 5.395833333333333, 5.576923076923077, 5.930232558139535, 5.285714285714286, 6.25, 4.805555555555555, 5.19672131147541]\n"
      ]
     },
     "execution_count": 25,
     "metadata": {},
     "output_type": "execute_result"
    }
   ],
   "source": [
    " if contact_tracing_active==true\n",
    "                @time  output = uni_network_run(RNGseed,\n",
    "                                                n_students,\n",
    "                                                ton,toff,\n",
    "                                                infection_parameters,\n",
    "                                                sameday,\n",
    "                                                seed_initial_states_fn,\n",
    "                                                countfinal,\n",
    "                                                endtime,\n",
    "                                                contact_tracing_active,\n",
    "                                                CT_parameters,\n",
    "                                                network_parameters,\n",
    "                                                team_generation_parameters,\n",
    "                                                society_generation_parameters,\n",
    "                                                work_study_group_closure_active,\n",
    "                                                mass_testing_active,\n",
    "                                                rehouse_strat_active,\n",
    "                                                mass_testing_parameters = mass_testing_parameters_alt,\n",
    "                                                intervention_fns = intervention_fns_alt,\n",
    "                                                generate_student_households_fn = generate_student_households_fn_alt,\n",
    "                                                assign_societies_fn = assign_societies_fn_alt,\n",
    "                                                generate_classes_fn = generate_classes_fn_alt,\n",
    "                                                assign_household_transrisk_fn = assign_household_transrisk_fn_alt\n",
    "                                                )\n",
    "                @unpack numlat, numinf, numrep,\n",
    "                        prevlat, prevsymp, prevasymp, prevpresymp, prevrec,\n",
    "                        newinf, newasymp, atworkinf, atworkasymp, infected_by,\n",
    "                        num_isolating, num_isolating_oncampus, num_isolating_offcampus,\n",
    "                        num_household_isolating, num_symp_isolating, num_asymp_isolating,\n",
    "                        num_isolating_CTcause,\n",
    "                        num_accom_lockdown_isolating,\n",
    "                        num_CT, num_infected, social_dynamic_infection_count,\n",
    "                        accommodation_dynamic_infection_count, household_infection_count,\n",
    "                        var_num_infected, num_init_infected, mean_init_generation_time,\n",
    "                        Rt,\n",
    "                        new_rehoused, current_rehoused,\n",
    "                        tests_performed, test_outcomes,\n",
    "                        cohort_infection_count, society_infection_count,\n",
    "                        n_oncampus_inf, n_offcampus_inf,\n",
    "                        n_isol_adhering, n_isol_adhering_oncampus, n_isol_adhering_offcampus = output\n",
    "else\n",
    "               @time  output = uni_network_run(RNGseed,\n",
    "                                               n_students,\n",
    "                                               ton,toff,\n",
    "                                               infection_parameters,\n",
    "                                               sameday,\n",
    "                                               seed_initial_states_fn,\n",
    "                                               countfinal,\n",
    "                                               endtime,\n",
    "                                               contact_tracing_active,\n",
    "                                               CT_parameters,\n",
    "                                               network_parameters,\n",
    "                                               team_generation_parameters,\n",
    "                                               society_generation_parameters,\n",
    "                                               work_study_group_closure_active,\n",
    "                                               mass_testing_active,\n",
    "                                               rehouse_strat_active,\n",
    "                                               mass_testing_parameters = mass_testing_parameters_alt,\n",
    "                                               intervention_fns = intervention_fns_alt,\n",
    "                                               generate_student_households_fn = generate_student_households_fn_alt,\n",
    "                                               assign_societies_fn = assign_societies_fn_alt,\n",
    "                                               generate_classes_fn = generate_classes_fn_alt,\n",
    "                                               assign_household_transrisk_fn = assign_household_transrisk_fn_alt\n",
    "                                               )\n",
    "               @unpack  numlat, numinf, numrep,\n",
    "                        prevlat, prevsymp, prevasymp, prevpresymp, prevrec,\n",
    "                        newinf, newasymp, atworkinf, atworkasymp, infected_by,\n",
    "                        num_isolating, num_isolating_oncampus, num_isolating_offcampus,\n",
    "                        num_household_isolating, num_symp_isolating, num_asymp_isolating,\n",
    "                       num_accom_lockdown_isolating,\n",
    "                       num_CT, num_infected,\n",
    "                       social_dynamic_infection_count,\n",
    "                       accommodation_dynamic_infection_count, household_infection_count,\n",
    "                       var_num_infected,\n",
    "                       num_init_infected, mean_init_generation_time, Rt,\n",
    "                       new_rehoused, current_rehoused,\n",
    "                       tests_performed, test_outcomes,\n",
    "                       cohort_infection_count,\n",
    "                       society_infection_count,\n",
    "                       n_oncampus_inf, n_offcampus_inf,\n",
    "                       n_isol_adhering, n_isol_adhering_oncampus, n_isol_adhering_offcampus = output\n",
    " end"
   ]
  },
  {
   "cell_type": "markdown",
   "metadata": {},
   "source": [
    "The outputs may then undergo further analysis and/or saved to file."
   ]
  }
 ],
 "metadata": {
  "kernelspec": {
   "display_name": "Julia 1.4.1",
   "language": "julia",
   "name": "julia-1.4"
  },
  "language_info": {
   "file_extension": ".jl",
   "mimetype": "application/julia",
   "name": "julia",
   "version": "1.4.2"
  }
 },
 "nbformat": 4,
 "nbformat_minor": 2
}
